{
 "cells": [
  {
   "cell_type": "markdown",
   "metadata": {},
   "source": [
    "- 先ずは変数毎の正規化を入れないとおかしくないですか？\n",
    "- \n",
    "# pickleに吐いて，可視化\n",
    "- 誤差が下がるようす\n",
    "- エピソード毎の報酬の経過"
   ]
  },
  {
   "cell_type": "code",
   "execution_count": 1,
   "metadata": {},
   "outputs": [
    {
     "name": "stdout",
     "output_type": "stream",
     "text": [
      "total 1393164\n",
      "-rw-r--r-- 1 shigeharu    19258 Dec  5 17:34 base_line_dqn.py\n",
      "-rw-r--r-- 1 shigeharu     4544 Dec  5 17:34 baseline.py\n",
      "-rw-r--r-- 1 shigeharu      995 Dec  5 21:28 base_rec00_1000_std10_loop20.pickle\n",
      "-rw-r--r-- 1 shigeharu      995 Dec  5 21:18 base_rec00_100_std10_loop20.pickle\n",
      "-rw-r--r-- 1 shigeharu      185 Dec  5 17:34 base_rec00_10_std10_loop20.pickle\n",
      "-rw-r--r-- 1 shigeharu      995 Dec  5 21:29 base_rec00_1100_std10_loop20.pickle\n",
      "-rw-r--r-- 1 shigeharu      995 Dec  5 21:31 base_rec00_1200_std10_loop20.pickle\n",
      "-rw-r--r-- 1 shigeharu      995 Dec  5 21:32 base_rec00_1300_std10_loop20.pickle\n",
      "-rw-r--r-- 1 shigeharu      995 Dec  5 21:33 base_rec00_1400_std10_loop20.pickle\n",
      "-rw-r--r-- 1 shigeharu      995 Dec  5 21:35 base_rec00_1500_std10_loop20.pickle\n",
      "-rw-r--r-- 1 shigeharu      995 Dec  5 21:36 base_rec00_1600_std10_loop20.pickle\n",
      "-rw-r--r-- 1 shigeharu      995 Dec  5 21:37 base_rec00_1700_std10_loop20.pickle\n",
      "-rw-r--r-- 1 shigeharu      995 Dec  5 21:39 base_rec00_1800_std10_loop20.pickle\n",
      "-rw-r--r-- 1 shigeharu      995 Dec  5 21:40 base_rec00_1900_std10_loop20.pickle\n",
      "-rw-r--r-- 1 shigeharu      995 Dec  5 21:42 base_rec00_2000_std10_loop20.pickle\n",
      "-rw-r--r-- 1 shigeharu      995 Dec  5 21:18 base_rec00_200_std10_loop20.pickle\n",
      "-rw-r--r-- 1 shigeharu      185 Dec  5 17:34 base_rec00_20_std10_loop20.pickle\n",
      "-rw-r--r-- 1 shigeharu      995 Dec  5 21:19 base_rec00_300_std10_loop20.pickle\n",
      "-rw-r--r-- 1 shigeharu      995 Dec  5 21:21 base_rec00_400_std10_loop20.pickle\n",
      "-rw-r--r-- 1 shigeharu      995 Dec  5 21:22 base_rec00_500_std10_loop20.pickle\n",
      "-rw-r--r-- 1 shigeharu      995 Dec  5 21:24 base_rec00_600_std10_loop20.pickle\n",
      "-rw-r--r-- 1 shigeharu      995 Dec  5 21:25 base_rec00_700_std10_loop20.pickle\n",
      "-rw-r--r-- 1 shigeharu      995 Dec  5 21:26 base_rec00_800_std10_loop20.pickle\n",
      "-rw-r--r-- 1 shigeharu      995 Dec  5 21:27 base_rec00_900_std10_loop20.pickle\n",
      "-rw-r--r-- 1 shigeharu    20277 Dec  4 18:24 curio_dqn.py\n",
      "-rw-r--r-- 1 shigeharu     1724 Dec  3 11:08 double_dqn.py\n",
      "-rw-r--r-- 1 shigeharu       41 Dec  4 22:06 dumy.py\n",
      "-rw-r--r-- 1 shigeharu    11402 Dec  2 12:36 example.ipynb\n",
      "-rw-r--r-- 1 shigeharu     5867 Dec  5 21:14 gate_code1.py\n",
      "-rw-r--r-- 1 shigeharu    21263 Dec  5 02:07 gated_curio_dqn.py\n",
      "-rw-r--r-- 1 shigeharu  5490944 Dec  7 03:25 gate_rec01_1000_std10_loop20.pickle\n",
      "-rw-r--r-- 1 shigeharu  1683548 Dec  5 23:29 gate_rec01_100_std10_loop20.pickle\n",
      "-rw-r--r-- 1 shigeharu  4928564 Dec  7 03:47 gate_rec01_1010_std10_loop20.pickle\n",
      "-rw-r--r-- 1 shigeharu  4938260 Dec  7 04:10 gate_rec01_1020_std10_loop20.pickle\n",
      "-rw-r--r-- 1 shigeharu  6383000 Dec  7 04:38 gate_rec01_1030_std10_loop20.pickle\n",
      "-rw-r--r-- 1 shigeharu  5878796 Dec  7 05:05 gate_rec01_1040_std10_loop20.pickle\n",
      "-rw-r--r-- 1 shigeharu  4702320 Dec  7 05:27 gate_rec01_1050_std10_loop20.pickle\n",
      "-rw-r--r-- 1 shigeharu  6263412 Dec  7 05:55 gate_rec01_1060_std10_loop20.pickle\n",
      "-rw-r--r-- 1 shigeharu  5697800 Dec  7 06:21 gate_rec01_1070_std10_loop20.pickle\n",
      "-rw-r--r-- 1 shigeharu  5581444 Dec  7 06:46 gate_rec01_1080_std10_loop20.pickle\n",
      "-rw-r--r-- 1 shigeharu  6037168 Dec  7 07:14 gate_rec01_1090_std10_loop20.pickle\n",
      "-rw-r--r-- 1 shigeharu  2785688 Dec  5 21:27 gate_rec01_10_std10_loop20.pickle\n",
      "-rw-r--r-- 1 shigeharu  5158040 Dec  7 07:37 gate_rec01_1100_std10_loop20.pickle\n",
      "-rw-r--r-- 1 shigeharu  1547800 Dec  5 23:35 gate_rec01_110_std10_loop20.pickle\n",
      "-rw-r--r-- 1 shigeharu  5620228 Dec  7 08:02 gate_rec01_1110_std10_loop20.pickle\n",
      "-rw-r--r-- 1 shigeharu  6363608 Dec  7 08:31 gate_rec01_1120_std10_loop20.pickle\n",
      "-rw-r--r-- 1 shigeharu  5933740 Dec  7 08:58 gate_rec01_1130_std10_loop20.pickle\n",
      "-rw-r--r-- 1 shigeharu  5652548 Dec  7 09:24 gate_rec01_1140_std10_loop20.pickle\n",
      "-rw-r--r-- 1 shigeharu  5151576 Dec  7 09:47 gate_rec01_1150_std10_loop20.pickle\n",
      "-rw-r--r-- 1 shigeharu  4893012 Dec  7 10:10 gate_rec01_1160_std10_loop20.pickle\n",
      "-rw-r--r-- 1 shigeharu  5158040 Dec  7 10:33 gate_rec01_1170_std10_loop20.pickle\n",
      "-rw-r--r-- 1 shigeharu  5710728 Dec  7 10:59 gate_rec01_1180_std10_loop20.pickle\n",
      "-rw-r--r-- 1 shigeharu  6182612 Dec  7 11:27 gate_rec01_1190_std10_loop20.pickle\n",
      "-rw-r--r-- 1 shigeharu  6383000 Dec  7 11:56 gate_rec01_1200_std10_loop20.pickle\n",
      "-rw-r--r-- 1 shigeharu  1412052 Dec  5 23:42 gate_rec01_120_std10_loop20.pickle\n",
      "-rw-r--r-- 1 shigeharu  5830316 Dec  7 12:23 gate_rec01_1210_std10_loop20.pickle\n",
      "-rw-r--r-- 1 shigeharu  6127664 Dec  7 12:51 gate_rec01_1220_std10_loop20.pickle\n",
      "-rw-r--r-- 1 shigeharu  6431480 Dec  7 13:20 gate_rec01_1230_std10_loop20.pickle\n",
      "-rw-r--r-- 1 shigeharu  5914348 Dec  7 13:47 gate_rec01_1240_std10_loop20.pickle\n",
      "-rw-r--r-- 1 shigeharu  6463800 Dec  7 14:16 gate_rec01_1250_std10_loop20.pickle\n",
      "-rw-r--r-- 1 shigeharu  5629924 Dec  7 14:42 gate_rec01_1260_std10_loop20.pickle\n",
      "-rw-r--r-- 1 shigeharu  6227860 Dec  7 15:10 gate_rec01_1270_std10_loop20.pickle\n",
      "-rw-r--r-- 1 shigeharu  5261468 Dec  7 15:34 gate_rec01_1280_std10_loop20.pickle\n",
      "-rw-r--r-- 1 shigeharu  5930508 Dec  7 16:01 gate_rec01_1290_std10_loop20.pickle\n",
      "-rw-r--r-- 1 shigeharu  5429536 Dec  7 16:26 gate_rec01_1300_std10_loop20.pickle\n",
      "-rw-r--r-- 1 shigeharu  1431444 Dec  5 23:48 gate_rec01_130_std10_loop20.pickle\n",
      "-rw-r--r-- 1 shigeharu  4337092 Dec  7 16:46 gate_rec01_1310_std10_loop20.pickle\n",
      "-rw-r--r-- 1 shigeharu  6205236 Dec  7 17:14 gate_rec01_1320_std10_loop20.pickle\n",
      "-rw-r--r-- 1 shigeharu  5219452 Dec  7 17:38 gate_rec01_1330_std10_loop20.pickle\n",
      "-rw-r--r-- 1 shigeharu  1463768 Dec  5 23:54 gate_rec01_140_std10_loop20.pickle\n",
      "-rw-r--r-- 1 shigeharu  4521320 Dec  6 00:14 gate_rec01_150_std10_loop20.pickle\n",
      "-rw-r--r-- 1 shigeharu  1945348 Dec  6 00:22 gate_rec01_160_std10_loop20.pickle\n",
      "-rw-r--r-- 1 shigeharu  1880704 Dec  6 00:31 gate_rec01_170_std10_loop20.pickle\n",
      "-rw-r--r-- 1 shigeharu  2721044 Dec  6 00:42 gate_rec01_180_std10_loop20.pickle\n",
      "-rw-r--r-- 1 shigeharu  4463144 Dec  6 01:02 gate_rec01_190_std10_loop20.pickle\n",
      "-rw-r--r-- 1 shigeharu  4492232 Dec  6 01:22 gate_rec01_200_std10_loop20.pickle\n",
      "-rw-r--r-- 1 shigeharu  4308004 Dec  5 21:44 gate_rec01_20_std10_loop20.pickle\n",
      "-rw-r--r-- 1 shigeharu  3144448 Dec  6 01:36 gate_rec01_210_std10_loop20.pickle\n",
      "-rw-r--r-- 1 shigeharu  3034556 Dec  6 01:49 gate_rec01_220_std10_loop20.pickle\n",
      "-rw-r--r-- 1 shigeharu  3060412 Dec  6 02:02 gate_rec01_230_std10_loop20.pickle\n",
      "-rw-r--r-- 1 shigeharu  2772760 Dec  6 02:15 gate_rec01_240_std10_loop20.pickle\n",
      "-rw-r--r-- 1 shigeharu  2847096 Dec  6 02:27 gate_rec01_250_std10_loop20.pickle\n",
      "-rw-r--r-- 1 shigeharu  3270508 Dec  6 02:42 gate_rec01_260_std10_loop20.pickle\n",
      "-rw-r--r-- 1 shigeharu  2792152 Dec  6 02:54 gate_rec01_270_std10_loop20.pickle\n",
      "-rw-r--r-- 1 shigeharu  3855512 Dec  6 03:11 gate_rec01_280_std10_loop20.pickle\n",
      "-rw-r--r-- 1 shigeharu  3616340 Dec  6 03:27 gate_rec01_290_std10_loop20.pickle\n",
      "-rw-r--r-- 1 shigeharu  3121824 Dec  6 03:41 gate_rec01_300_std10_loop20.pickle\n",
      "-rw-r--r-- 1 shigeharu  6037168 Dec  5 22:08 gate_rec01_30_std10_loop20.pickle\n",
      "-rw-r--r-- 1 shigeharu  3131520 Dec  6 03:55 gate_rec01_310_std10_loop20.pickle\n",
      "-rw-r--r-- 1 shigeharu  5255004 Dec  6 04:18 gate_rec01_320_std10_loop20.pickle\n",
      "-rw-r--r-- 1 shigeharu  5355200 Dec  6 04:42 gate_rec01_330_std10_loop20.pickle\n",
      "-rw-r--r-- 1 shigeharu  4404968 Dec  6 05:02 gate_rec01_340_std10_loop20.pickle\n",
      "-rw-r--r-- 1 shigeharu  6024240 Dec  6 05:29 gate_rec01_350_std10_loop20.pickle\n",
      "-rw-r--r-- 1 shigeharu  5209756 Dec  6 05:52 gate_rec01_360_std10_loop20.pickle\n",
      "-rw-r--r-- 1 shigeharu  5002900 Dec  6 06:14 gate_rec01_370_std10_loop20.pickle\n",
      "-rw-r--r-- 1 shigeharu  6033936 Dec  6 06:41 gate_rec01_380_std10_loop20.pickle\n",
      "-rw-r--r-- 1 shigeharu  6463800 Dec  6 07:10 gate_rec01_390_std10_loop20.pickle\n",
      "-rw-r--r-- 1 shigeharu  6340984 Dec  6 07:39 gate_rec01_400_std10_loop20.pickle\n",
      "-rw-r--r-- 1 shigeharu  4350020 Dec  5 22:26 gate_rec01_40_std10_loop20.pickle\n",
      "-rw-r--r-- 1 shigeharu  3283436 Dec  6 07:54 gate_rec01_410_std10_loop20.pickle\n",
      "-rw-r--r-- 1 shigeharu  3900764 Dec  6 08:11 gate_rec01_420_std10_loop20.pickle\n",
      "-rw-r--r-- 1 shigeharu  4977044 Dec  6 08:34 gate_rec01_430_std10_loop20.pickle\n",
      "-rw-r--r-- 1 shigeharu  4030044 Dec  6 08:52 gate_rec01_440_std10_loop20.pickle\n",
      "-rw-r--r-- 1 shigeharu  2019684 Dec  6 09:01 gate_rec01_450_std10_loop20.pickle\n",
      "-rw-r--r-- 1 shigeharu  1767580 Dec  6 09:09 gate_rec01_460_std10_loop20.pickle\n",
      "-rw-r--r-- 1 shigeharu  2801848 Dec  6 09:22 gate_rec01_470_std10_loop20.pickle\n",
      "-rw-r--r-- 1 shigeharu  2911740 Dec  6 09:35 gate_rec01_480_std10_loop20.pickle\n",
      "-rw-r--r-- 1 shigeharu  2346124 Dec  6 09:46 gate_rec01_490_std10_loop20.pickle\n",
      "-rw-r--r-- 1 shigeharu  4123776 Dec  6 10:05 gate_rec01_500_std10_loop20.pickle\n",
      "-rw-r--r-- 1 shigeharu  3251116 Dec  5 22:40 gate_rec01_50_std10_loop20.pickle\n",
      "-rw-r--r-- 1 shigeharu  4534252 Dec  6 10:25 gate_rec01_510_std10_loop20.pickle\n",
      "-rw-r--r-- 1 shigeharu  5322876 Dec  6 10:49 gate_rec01_520_std10_loop20.pickle\n",
      "-rw-r--r-- 1 shigeharu  6037168 Dec  6 11:16 gate_rec01_530_std10_loop20.pickle\n",
      "-rw-r--r-- 1 shigeharu  6033936 Dec  6 11:43 gate_rec01_540_std10_loop20.pickle\n",
      "-rw-r--r-- 1 shigeharu  4967348 Dec  6 12:06 gate_rec01_550_std10_loop20.pickle\n",
      "-rw-r--r-- 1 shigeharu  3680980 Dec  6 12:22 gate_rec01_560_std10_loop20.pickle\n",
      "-rw-r--r-- 1 shigeharu  4440520 Dec  6 12:42 gate_rec01_570_std10_loop20.pickle\n",
      "-rw-r--r-- 1 shigeharu  3984796 Dec  6 13:00 gate_rec01_580_std10_loop20.pickle\n",
      "-rw-r--r-- 1 shigeharu  4288612 Dec  6 13:20 gate_rec01_590_std10_loop20.pickle\n",
      "-rw-r--r-- 1 shigeharu  2669332 Dec  6 13:32 gate_rec01_600_std10_loop20.pickle\n",
      "-rw-r--r-- 1 shigeharu  2805080 Dec  5 22:52 gate_rec01_60_std10_loop20.pickle\n",
      "-rw-r--r-- 1 shigeharu  2465712 Dec  6 13:43 gate_rec01_610_std10_loop20.pickle\n",
      "-rw-r--r-- 1 shigeharu  5481248 Dec  6 14:08 gate_rec01_620_std10_loop20.pickle\n",
      "-rw-r--r-- 1 shigeharu  5836780 Dec  6 14:34 gate_rec01_630_std10_loop20.pickle\n",
      "-rw-r--r-- 1 shigeharu  3128288 Dec  6 14:49 gate_rec01_640_std10_loop20.pickle\n",
      "-rw-r--r-- 1 shigeharu  3344844 Dec  6 15:04 gate_rec01_650_std10_loop20.pickle\n",
      "-rw-r--r-- 1 shigeharu  4863924 Dec  6 15:26 gate_rec01_660_std10_loop20.pickle\n",
      "-rw-r--r-- 1 shigeharu  4013884 Dec  6 15:44 gate_rec01_670_std10_loop20.pickle\n",
      "-rw-r--r-- 1 shigeharu  3638964 Dec  6 16:00 gate_rec01_680_std10_loop20.pickle\n",
      "-rw-r--r-- 1 shigeharu  4980276 Dec  6 16:23 gate_rec01_690_std10_loop20.pickle\n",
      "-rw-r--r-- 1 shigeharu  4469608 Dec  6 16:43 gate_rec01_700_std10_loop20.pickle\n",
      "-rw-r--r-- 1 shigeharu  2750136 Dec  5 23:03 gate_rec01_70_std10_loop20.pickle\n",
      "-rw-r--r-- 1 shigeharu  3173536 Dec  6 16:58 gate_rec01_710_std10_loop20.pickle\n",
      "-rw-r--r-- 1 shigeharu  3183232 Dec  6 17:12 gate_rec01_720_std10_loop20.pickle\n",
      "-rw-r--r-- 1 shigeharu  2963452 Dec  6 17:26 gate_rec01_730_std10_loop20.pickle\n",
      "-rw-r--r-- 1 shigeharu  3205856 Dec  6 17:40 gate_rec01_740_std10_loop20.pickle\n",
      "-rw-r--r-- 1 shigeharu  3499984 Dec  6 17:56 gate_rec01_750_std10_loop20.pickle\n",
      "-rw-r--r-- 1 shigeharu  5031992 Dec  6 18:19 gate_rec01_760_std10_loop20.pickle\n",
      "-rw-r--r-- 1 shigeharu  4893012 Dec  6 18:41 gate_rec01_770_std10_loop20.pickle\n",
      "-rw-r--r-- 1 shigeharu  5319644 Dec  6 19:05 gate_rec01_780_std10_loop20.pickle\n",
      "-rw-r--r-- 1 shigeharu  5196828 Dec  6 19:29 gate_rec01_790_std10_loop20.pickle\n",
      "-rw-r--r-- 1 shigeharu  5290556 Dec  6 19:53 gate_rec01_800_std10_loop20.pickle\n",
      "-rw-r--r-- 1 shigeharu  2472176 Dec  5 23:14 gate_rec01_80_std10_loop20.pickle\n",
      "-rw-r--r-- 1 shigeharu  4644140 Dec  6 20:14 gate_rec01_810_std10_loop20.pickle\n",
      "-rw-r--r-- 1 shigeharu  3606644 Dec  6 20:30 gate_rec01_820_std10_loop20.pickle\n",
      "-rw-r--r-- 1 shigeharu  4854228 Dec  6 20:52 gate_rec01_830_std10_loop20.pickle\n",
      "-rw-r--r-- 1 shigeharu  3089504 Dec  6 21:06 gate_rec01_840_std10_loop20.pickle\n",
      "-rw-r--r-- 1 shigeharu  3900764 Dec  6 21:24 gate_rec01_850_std10_loop20.pickle\n",
      "-rw-r--r-- 1 shigeharu  4540716 Dec  6 21:44 gate_rec01_860_std10_loop20.pickle\n",
      "-rw-r--r-- 1 shigeharu  5293788 Dec  6 22:09 gate_rec01_870_std10_loop20.pickle\n",
      "-rw-r--r-- 1 shigeharu  4479304 Dec  6 22:29 gate_rec01_880_std10_loop20.pickle\n",
      "-rw-r--r-- 1 shigeharu  5807688 Dec  6 22:55 gate_rec01_890_std10_loop20.pickle\n",
      "-rw-r--r-- 1 shigeharu  6134128 Dec  6 23:23 gate_rec01_900_std10_loop20.pickle\n",
      "-rw-r--r-- 1 shigeharu  1761116 Dec  5 23:21 gate_rec01_90_std10_loop20.pickle\n",
      "-rw-r--r-- 1 shigeharu  6463800 Dec  6 23:52 gate_rec01_910_std10_loop20.pickle\n",
      "-rw-r--r-- 1 shigeharu  5342272 Dec  7 00:16 gate_rec01_920_std10_loop20.pickle\n",
      "-rw-r--r-- 1 shigeharu  5894956 Dec  7 00:43 gate_rec01_930_std10_loop20.pickle\n",
      "-rw-r--r-- 1 shigeharu  5151576 Dec  7 01:06 gate_rec01_940_std10_loop20.pickle\n",
      "-rw-r--r-- 1 shigeharu  5597604 Dec  7 01:31 gate_rec01_950_std10_loop20.pickle\n",
      "-rw-r--r-- 1 shigeharu  4333860 Dec  7 01:51 gate_rec01_960_std10_loop20.pickle\n",
      "-rw-r--r-- 1 shigeharu  4666764 Dec  7 02:13 gate_rec01_970_std10_loop20.pickle\n",
      "-rw-r--r-- 1 shigeharu  5364896 Dec  7 02:37 gate_rec01_980_std10_loop20.pickle\n",
      "-rw-r--r-- 1 shigeharu  5096632 Dec  7 03:00 gate_rec01_990_std10_loop20.pickle\n",
      "-rw-r--r-- 1 shigeharu 87034080 Dec  5 08:27 gate_rec01_std10_loop20.pickle\n",
      "-rw-r--r-- 1 shigeharu     4529 Dec  2 21:34 graph2.dot\n",
      "-rw-r--r-- 1 shigeharu     4894 Dec  2 20:53 graph.dot\n",
      "-rw-r--r-- 1 shigeharu    41960 Dec  3 01:41 hard_cartpole.ipynb\n",
      "-rw-r--r-- 1 shigeharu     8451 Dec  4 22:19 hard_cartpole_noisy.py\n",
      "-rw-r--r-- 1 shigeharu     8532 Dec  5 21:12 hard_cartpole.py\n",
      "-rw-r--r-- 1 shigeharu   152685 Dec  5 21:12 health_check.ipynb\n",
      "-rw-r--r-- 1 shigeharu  3508743 Dec  3 11:51 intrinsic_motivation.ipynb\n",
      "-rw-r--r-- 1 shigeharu      424 Dec  4 22:06 notify.py\n",
      "drwxr-xr-x 2 shigeharu      512 Dec  4 22:10 \u001b[0m\u001b[01;34mold_testcode\u001b[0m/\n",
      "drwxr-xr-x 2 shigeharu      512 Dec  5 21:15 \u001b[01;34m__pycache__\u001b[0m/\n",
      "-rw-r--r-- 1 shigeharu     4431 Dec  4 22:09 test_code5.py\n",
      "-rw-r--r-- 1 shigeharu     4431 Dec  4 22:09 test_code6.py\n",
      "-rw-r--r-- 1 shigeharu     4438 Dec  4 23:31 test_code7.py\n",
      "-rw-r--r-- 1 shigeharu     4539 Dec  5 21:14 test_code8.py\n",
      "-rw-r--r-- 1 shigeharu     4688 Dec  3 11:55 test_rec01_std100_loop10.pickle\n",
      "-rw-r--r-- 1 shigeharu     4499 Dec  3 11:55 test_rec02_std10_loop10.pickle\n",
      "-rw-r--r-- 1 shigeharu    18010 Dec  3 13:31 test_rec03_std1000000000000_loop1.pickle\n",
      "-rw-r--r-- 1 shigeharu 21552372 Dec  4 20:51 test_rec05_std100_loop20.pickle\n",
      "-rw-r--r-- 1 shigeharu  7345625 Dec  4 18:11 test_rec05_std10_loop20.pickle\n",
      "-rw-r--r-- 1 shigeharu 52234094 Dec  4 23:20 test_rec06_std100_loop20.pickle\n",
      "-rw-r--r-- 1 shigeharu 31691701 Dec  5 01:27 test_rec07_std10_loop20.pickle\n",
      "-rw-r--r-- 1 shigeharu  5606817 Dec  7 12:03 test_rec08_1000_std10_loop20.pickle\n",
      "-rw-r--r-- 1 shigeharu  5895723 Dec  6 00:28 test_rec08_100_std10_loop20.pickle\n",
      "-rw-r--r-- 1 shigeharu  5754219 Dec  7 12:28 test_rec08_1010_std10_loop20.pickle\n",
      "-rw-r--r-- 1 shigeharu  5577335 Dec  7 12:52 test_rec08_1020_std10_loop20.pickle\n",
      "-rw-r--r-- 1 shigeharu  5653985 Dec  7 13:17 test_rec08_1030_std10_loop20.pickle\n",
      "-rw-r--r-- 1 shigeharu  5276635 Dec  7 13:39 test_rec08_1040_std10_loop20.pickle\n",
      "-rw-r--r-- 1 shigeharu  5485947 Dec  7 14:03 test_rec08_1050_std10_loop20.pickle\n",
      "-rw-r--r-- 1 shigeharu  5757167 Dec  7 14:28 test_rec08_1060_std10_loop20.pickle\n",
      "-rw-r--r-- 1 shigeharu  5895723 Dec  7 14:53 test_rec08_1070_std10_loop20.pickle\n",
      "-rw-r--r-- 1 shigeharu  5895723 Dec  7 15:19 test_rec08_1080_std10_loop20.pickle\n",
      "-rw-r--r-- 1 shigeharu  5804335 Dec  7 15:44 test_rec08_1090_std10_loop20.pickle\n",
      "-rw-r--r-- 1 shigeharu    82183 Dec  5 21:15 test_rec08_10_std10_loop20.pickle\n",
      "-rw-r--r-- 1 shigeharu  5895723 Dec  7 16:09 test_rec08_1100_std10_loop20.pickle\n",
      "-rw-r--r-- 1 shigeharu  5592075 Dec  6 00:52 test_rec08_110_std10_loop20.pickle\n",
      "-rw-r--r-- 1 shigeharu  5170507 Dec  7 16:31 test_rec08_1110_std10_loop20.pickle\n",
      "-rw-r--r-- 1 shigeharu  5842659 Dec  7 16:57 test_rec08_1120_std10_loop20.pickle\n",
      "-rw-r--r-- 1 shigeharu  5895723 Dec  7 17:22 test_rec08_1130_std10_loop20.pickle\n",
      "-rw-r--r-- 1 shigeharu  5600919 Dec  6 01:15 test_rec08_120_std10_loop20.pickle\n",
      "-rw-r--r-- 1 shigeharu  5851503 Dec  6 01:40 test_rec08_130_std10_loop20.pickle\n",
      "-rw-r--r-- 1 shigeharu  5547855 Dec  6 02:04 test_rec08_140_std10_loop20.pickle\n",
      "-rw-r--r-- 1 shigeharu  5456467 Dec  6 02:27 test_rec08_150_std10_loop20.pickle\n",
      "-rw-r--r-- 1 shigeharu  5633349 Dec  6 02:51 test_rec08_160_std10_loop20.pickle\n",
      "-rw-r--r-- 1 shigeharu  5544907 Dec  6 03:14 test_rec08_170_std10_loop20.pickle\n",
      "-rw-r--r-- 1 shigeharu  5421089 Dec  6 03:37 test_rec08_180_std10_loop20.pickle\n",
      "-rw-r--r-- 1 shigeharu  5320857 Dec  6 04:00 test_rec08_190_std10_loop20.pickle\n",
      "-rw-r--r-- 1 shigeharu  5580283 Dec  6 04:24 test_rec08_200_std10_loop20.pickle\n",
      "-rw-r--r-- 1 shigeharu  2095695 Dec  5 21:23 test_rec08_20_std10_loop20.pickle\n",
      "-rw-r--r-- 1 shigeharu  5456467 Dec  6 04:47 test_rec08_210_std10_loop20.pickle\n",
      "-rw-r--r-- 1 shigeharu  5391609 Dec  6 05:11 test_rec08_220_std10_loop20.pickle\n",
      "-rw-r--r-- 1 shigeharu  5692309 Dec  6 05:35 test_rec08_230_std10_loop20.pickle\n",
      "-rw-r--r-- 1 shigeharu  5895723 Dec  6 06:00 test_rec08_240_std10_loop20.pickle\n",
      "-rw-r--r-- 1 shigeharu  5415193 Dec  6 06:24 test_rec08_250_std10_loop20.pickle\n",
      "-rw-r--r-- 1 shigeharu  5895723 Dec  6 06:49 test_rec08_260_std10_loop20.pickle\n",
      "-rw-r--r-- 1 shigeharu  5895723 Dec  6 07:14 test_rec08_270_std10_loop20.pickle\n",
      "-rw-r--r-- 1 shigeharu  5807283 Dec  6 07:39 test_rec08_280_std10_loop20.pickle\n",
      "-rw-r--r-- 1 shigeharu  4878651 Dec  6 08:00 test_rec08_290_std10_loop20.pickle\n",
      "-rw-r--r-- 1 shigeharu  5111545 Dec  6 08:22 test_rec08_300_std10_loop20.pickle\n",
      "-rw-r--r-- 1 shigeharu  5217675 Dec  5 21:42 test_rec08_30_std10_loop20.pickle\n",
      "-rw-r--r-- 1 shigeharu  5583231 Dec  6 08:46 test_rec08_310_std10_loop20.pickle\n",
      "-rw-r--r-- 1 shigeharu  5583231 Dec  6 09:11 test_rec08_320_std10_loop20.pickle\n",
      "-rw-r--r-- 1 shigeharu  2741315 Dec  6 09:23 test_rec08_330_std10_loop20.pickle\n",
      "-rw-r--r-- 1 shigeharu  3360409 Dec  6 09:37 test_rec08_340_std10_loop20.pickle\n",
      "-rw-r--r-- 1 shigeharu  5662829 Dec  6 10:01 test_rec08_350_std10_loop20.pickle\n",
      "-rw-r--r-- 1 shigeharu  5485947 Dec  6 10:25 test_rec08_360_std10_loop20.pickle\n",
      "-rw-r--r-- 1 shigeharu  5521323 Dec  6 10:49 test_rec08_370_std10_loop20.pickle\n",
      "-rw-r--r-- 1 shigeharu  5087961 Dec  6 11:11 test_rec08_380_std10_loop20.pickle\n",
      "-rw-r--r-- 1 shigeharu  5376869 Dec  6 11:34 test_rec08_390_std10_loop20.pickle\n",
      "-rw-r--r-- 1 shigeharu  5229467 Dec  6 11:57 test_rec08_400_std10_loop20.pickle\n",
      "-rw-r--r-- 1 shigeharu  5583231 Dec  5 22:03 test_rec08_40_std10_loop20.pickle\n",
      "-rw-r--r-- 1 shigeharu  5754219 Dec  6 12:22 test_rec08_410_std10_loop20.pickle\n",
      "-rw-r--r-- 1 shigeharu  5878035 Dec  6 12:47 test_rec08_420_std10_loop20.pickle\n",
      "-rw-r--r-- 1 shigeharu  5533115 Dec  6 13:11 test_rec08_430_std10_loop20.pickle\n",
      "-rw-r--r-- 1 shigeharu  4990675 Dec  6 13:32 test_rec08_440_std10_loop20.pickle\n",
      "-rw-r--r-- 1 shigeharu  5303167 Dec  6 13:55 test_rec08_450_std10_loop20.pickle\n",
      "-rw-r--r-- 1 shigeharu  5002467 Dec  6 14:17 test_rec08_460_std10_loop20.pickle\n",
      "-rw-r--r-- 1 shigeharu  5839711 Dec  6 14:42 test_rec08_470_std10_loop20.pickle\n",
      "-rw-r--r-- 1 shigeharu  5780751 Dec  6 15:07 test_rec08_480_std10_loop20.pickle\n",
      "-rw-r--r-- 1 shigeharu  5668725 Dec  6 15:31 test_rec08_490_std10_loop20.pickle\n",
      "-rw-r--r-- 1 shigeharu  5468259 Dec  6 15:55 test_rec08_500_std10_loop20.pickle\n",
      "-rw-r--r-- 1 shigeharu  5895723 Dec  5 22:26 test_rec08_50_std10_loop20.pickle\n",
      "-rw-r--r-- 1 shigeharu  5754219 Dec  6 16:20 test_rec08_510_std10_loop20.pickle\n",
      "-rw-r--r-- 1 shigeharu  5869191 Dec  6 16:45 test_rec08_520_std10_loop20.pickle\n",
      "-rw-r--r-- 1 shigeharu  5863295 Dec  6 17:11 test_rec08_530_std10_loop20.pickle\n",
      "-rw-r--r-- 1 shigeharu  5503635 Dec  6 17:35 test_rec08_540_std10_loop20.pickle\n",
      "-rw-r--r-- 1 shigeharu  5609765 Dec  6 17:59 test_rec08_550_std10_loop20.pickle\n",
      "-rw-r--r-- 1 shigeharu  5692309 Dec  6 18:23 test_rec08_560_std10_loop20.pickle\n",
      "-rw-r--r-- 1 shigeharu  5751271 Dec  6 18:48 test_rec08_570_std10_loop20.pickle\n",
      "-rw-r--r-- 1 shigeharu  5111545 Dec  6 19:10 test_rec08_580_std10_loop20.pickle\n",
      "-rw-r--r-- 1 shigeharu  5665777 Dec  6 19:35 test_rec08_590_std10_loop20.pickle\n",
      "-rw-r--r-- 1 shigeharu  5465311 Dec  6 19:59 test_rec08_600_std10_loop20.pickle\n",
      "-rw-r--r-- 1 shigeharu  5895723 Dec  5 22:50 test_rec08_60_std10_loop20.pickle\n",
      "-rw-r--r-- 1 shigeharu  5830867 Dec  6 20:24 test_rec08_610_std10_loop20.pickle\n",
      "-rw-r--r-- 1 shigeharu  5733581 Dec  6 20:49 test_rec08_620_std10_loop20.pickle\n",
      "-rw-r--r-- 1 shigeharu  5500687 Dec  6 21:12 test_rec08_630_std10_loop20.pickle\n",
      "-rw-r--r-- 1 shigeharu  5400453 Dec  6 21:36 test_rec08_640_std10_loop20.pickle\n",
      "-rw-r--r-- 1 shigeharu  5880983 Dec  6 22:01 test_rec08_650_std10_loop20.pickle\n",
      "-rw-r--r-- 1 shigeharu  5895723 Dec  6 22:26 test_rec08_660_std10_loop20.pickle\n",
      "-rw-r--r-- 1 shigeharu  5648089 Dec  6 22:51 test_rec08_670_std10_loop20.pickle\n",
      "-rw-r--r-- 1 shigeharu  5627453 Dec  6 23:15 test_rec08_680_std10_loop20.pickle\n",
      "-rw-r--r-- 1 shigeharu  5895723 Dec  6 23:40 test_rec08_690_std10_loop20.pickle\n",
      "-rw-r--r-- 1 shigeharu  5406349 Dec  7 00:04 test_rec08_700_std10_loop20.pickle\n",
      "-rw-r--r-- 1 shigeharu  5895723 Dec  5 23:14 test_rec08_70_std10_loop20.pickle\n",
      "-rw-r--r-- 1 shigeharu  5718841 Dec  7 00:29 test_rec08_710_std10_loop20.pickle\n",
      "-rw-r--r-- 1 shigeharu  5816127 Dec  7 00:54 test_rec08_720_std10_loop20.pickle\n",
      "-rw-r--r-- 1 shigeharu  5686413 Dec  7 01:18 test_rec08_730_std10_loop20.pickle\n",
      "-rw-r--r-- 1 shigeharu  5639245 Dec  7 01:43 test_rec08_740_std10_loop20.pickle\n",
      "-rw-r--r-- 1 shigeharu  5309065 Dec  7 02:06 test_rec08_750_std10_loop20.pickle\n",
      "-rw-r--r-- 1 shigeharu  5477103 Dec  7 02:29 test_rec08_760_std10_loop20.pickle\n",
      "-rw-r--r-- 1 shigeharu  5485947 Dec  7 02:53 test_rec08_770_std10_loop20.pickle\n",
      "-rw-r--r-- 1 shigeharu  5677569 Dec  7 03:18 test_rec08_780_std10_loop20.pickle\n",
      "-rw-r--r-- 1 shigeharu  5674621 Dec  7 03:42 test_rec08_790_std10_loop20.pickle\n",
      "-rw-r--r-- 1 shigeharu  5627453 Dec  7 04:06 test_rec08_800_std10_loop20.pickle\n",
      "-rw-r--r-- 1 shigeharu  5895723 Dec  5 23:39 test_rec08_80_std10_loop20.pickle\n",
      "-rw-r--r-- 1 shigeharu  5477103 Dec  7 04:30 test_rec08_810_std10_loop20.pickle\n",
      "-rw-r--r-- 1 shigeharu  5527219 Dec  7 04:54 test_rec08_820_std10_loop20.pickle\n",
      "-rw-r--r-- 1 shigeharu  5763063 Dec  7 05:18 test_rec08_830_std10_loop20.pickle\n",
      "-rw-r--r-- 1 shigeharu  5866243 Dec  7 05:43 test_rec08_840_std10_loop20.pickle\n",
      "-rw-r--r-- 1 shigeharu  5482999 Dec  7 06:07 test_rec08_850_std10_loop20.pickle\n",
      "-rw-r--r-- 1 shigeharu  5783699 Dec  7 06:32 test_rec08_860_std10_loop20.pickle\n",
      "-rw-r--r-- 1 shigeharu  5839711 Dec  7 06:57 test_rec08_870_std10_loop20.pickle\n",
      "-rw-r--r-- 1 shigeharu  5421089 Dec  7 07:20 test_rec08_880_std10_loop20.pickle\n",
      "-rw-r--r-- 1 shigeharu  5618609 Dec  7 07:45 test_rec08_890_std10_loop20.pickle\n",
      "-rw-r--r-- 1 shigeharu  5556699 Dec  7 08:09 test_rec08_900_std10_loop20.pickle\n",
      "-rw-r--r-- 1 shigeharu  5895723 Dec  6 00:03 test_rec08_90_std10_loop20.pickle\n",
      "-rw-r--r-- 1 shigeharu  5491843 Dec  7 08:32 test_rec08_910_std10_loop20.pickle\n",
      "-rw-r--r-- 1 shigeharu  5739477 Dec  7 08:57 test_rec08_920_std10_loop20.pickle\n",
      "-rw-r--r-- 1 shigeharu  5674621 Dec  7 09:21 test_rec08_930_std10_loop20.pickle\n",
      "-rw-r--r-- 1 shigeharu  5320857 Dec  7 09:44 test_rec08_940_std10_loop20.pickle\n",
      "-rw-r--r-- 1 shigeharu  5326753 Dec  7 10:07 test_rec08_950_std10_loop20.pickle\n",
      "-rw-r--r-- 1 shigeharu  5235363 Dec  7 10:30 test_rec08_960_std10_loop20.pickle\n",
      "-rw-r--r-- 1 shigeharu  5595023 Dec  7 10:54 test_rec08_970_std10_loop20.pickle\n",
      "-rw-r--r-- 1 shigeharu  5403401 Dec  7 11:17 test_rec08_980_std10_loop20.pickle\n",
      "-rw-r--r-- 1 shigeharu  5141025 Dec  7 11:39 test_rec08_990_std10_loop20.pickle\n",
      "-rw-r--r-- 1 shigeharu        0 Dec  5 09:19 test_rec08_std10_loop20.pickle\n"
     ]
    }
   ],
   "source": [
    "ll"
   ]
  },
  {
   "cell_type": "code",
   "execution_count": 1,
   "metadata": {},
   "outputs": [],
   "source": [
    "import glob\n",
    "all_names = glob.glob('gate_rec01_*std10_loop20.pickle')"
   ]
  },
  {
   "cell_type": "code",
   "execution_count": 2,
   "metadata": {},
   "outputs": [],
   "source": [
    "import glob\n",
    "all_names = glob.glob('gate_rec01_*std10_loop20.pickle')\n",
    "import pickle\n",
    "import numpy as np\n",
    "import matplotlib.pyplot as plt\n",
    "% matplotlib inline"
   ]
  },
  {
   "cell_type": "code",
   "execution_count": 3,
   "metadata": {},
   "outputs": [],
   "source": [
    "import math\n",
    "def draw_int_rew(data,i,gate=False):\n",
    "    plt.figure(figsize=(6, 5),facecolor=\"gray\")\n",
    "    x = [math.sin(rad) for rad in data['target'][i]]\n",
    "    y = [math.cos(rad) for rad in data['target'][i]]\n",
    "    losses = [d[0] for d in data['target_losses'][i]]\n",
    "        \n",
    "    plt.rcParams[\"axes.facecolor\"] = (1,1,1,0)\n",
    "    plt.xlim(-1.1, 1.1)\n",
    "    plt.ylim(-1.1,1.1)\n",
    "    plt.scatter(x,y,s=5,cmap='magma',c=losses)\n",
    "    if gate:\n",
    "        x = [math.sin(rad)*0.8 for rad in data['target'][i]]\n",
    "        y = [math.cos(rad)*0.8 for rad in data['target'][i]]\n",
    "        losses = [d[0] for d in data['target_a_losses'][i]]\n",
    "        plt.scatter(x,y,s=5,cmap='magma',c=losses)\n",
    "    plt.colorbar()"
   ]
  },
  {
   "cell_type": "code",
   "execution_count": 21,
   "metadata": {},
   "outputs": [
    {
     "data": {
      "text/plain": [
       "[<matplotlib.lines.Line2D at 0x7fe8dec679e8>]"
      ]
     },
     "execution_count": 21,
     "metadata": {},
     "output_type": "execute_result"
    },
    {
     "data": {
      "image/png": "[encoded data removed]",
      "text/plain": [
       "<matplotlib.figure.Figure at 0x7fe8f36ec048>"
      ]
     },
     "metadata": {},
     "output_type": "display_data"
    }
   ],
   "source": [
    "data = []\n",
    "for an in all_names:\n",
    "    with open(an,mode='rb') as f:\n",
    "        data += pickle.load(f)[\"qt+i_r\"]\n",
    "plt.plot(list(range(len(data))), [float(sum(d.array)/len(d.array)) for d in data])"
   ]
  },
  {
   "cell_type": "code",
   "execution_count": 23,
   "metadata": {},
   "outputs": [
    {
     "data": {
      "text/plain": [
       "[<matplotlib.lines.Line2D at 0x7fe7b433ea20>]"
      ]
     },
     "execution_count": 23,
     "metadata": {},
     "output_type": "execute_result"
    },
    {
     "data": {
      "image/png": "[encoded data removed]",
      "text/plain": [
       "<matplotlib.figure.Figure at 0x7fe8f51674a8>"
      ]
     },
     "metadata": {},
     "output_type": "display_data"
    }
   ],
   "source": [
    "data = []\n",
    "for an in all_names:\n",
    "    with open(an,mode='rb') as f:\n",
    "        data += [d for i, d in enumerate(pickle.load(f)['loss']) if i%10==0]\n",
    "plt.plot(list(range(len(data))), [float(d.array) for d in data])"
   ]
  },
  {
   "cell_type": "code",
   "execution_count": null,
   "metadata": {},
   "outputs": [],
   "source": [
    "data = []\n",
    "for an in all_names:\n",
    "    with open(an,mode='rb') as f:\n",
    "        data += [d for i, d in enumerate(pickle.load(f)[\"qt+i_r\"]) if i%10==0]\n",
    "plt.plot(list(range(len(data))), data)"
   ]
  },
  {
   "cell_type": "code",
   "execution_count": 52,
   "metadata": {},
   "outputs": [
    {
     "data": {
      "image/png": "[encoded data removed]",
      "text/plain": [
       "<matplotlib.figure.Figure at 0x7f815496e438>"
      ]
     },
     "metadata": {},
     "output_type": "display_data"
    }
   ],
   "source": [
    "draw_int_rew(data,len(data['target_losses'])-1)"
   ]
  },
  {
   "cell_type": "code",
   "execution_count": null,
   "metadata": {},
   "outputs": [],
   "source": []
  },
  {
   "cell_type": "code",
   "execution_count": null,
   "metadata": {},
   "outputs": [],
   "source": []
  },
  {
   "cell_type": "code",
   "execution_count": null,
   "metadata": {},
   "outputs": [],
   "source": []
  },
  {
   "cell_type": "code",
   "execution_count": null,
   "metadata": {},
   "outputs": [],
   "source": []
  },
  {
   "cell_type": "code",
   "execution_count": null,
   "metadata": {},
   "outputs": [],
   "source": []
  },
  {
   "cell_type": "code",
   "execution_count": 41,
   "metadata": {},
   "outputs": [
    {
     "data": {
      "text/plain": [
       "['gate_rec01_std10_loop20.pickle',\n",
       " 'gate_rec01_10_std10_loop20.pickle',\n",
       " 'gate_rec01_20_std10_loop20.pickle',\n",
       " 'gate_rec01_30_std10_loop20.pickle',\n",
       " 'gate_rec01_40_std10_loop20.pickle',\n",
       " 'gate_rec01_50_std10_loop20.pickle',\n",
       " 'gate_rec01_60_std10_loop20.pickle',\n",
       " 'gate_rec01_70_std10_loop20.pickle',\n",
       " 'gate_rec01_80_std10_loop20.pickle',\n",
       " 'gate_rec01_90_std10_loop20.pickle',\n",
       " 'gate_rec01_100_std10_loop20.pickle',\n",
       " 'gate_rec01_110_std10_loop20.pickle',\n",
       " 'gate_rec01_120_std10_loop20.pickle',\n",
       " 'gate_rec01_130_std10_loop20.pickle',\n",
       " 'gate_rec01_140_std10_loop20.pickle',\n",
       " 'gate_rec01_150_std10_loop20.pickle',\n",
       " 'gate_rec01_160_std10_loop20.pickle',\n",
       " 'gate_rec01_170_std10_loop20.pickle',\n",
       " 'gate_rec01_180_std10_loop20.pickle',\n",
       " 'gate_rec01_190_std10_loop20.pickle',\n",
       " 'gate_rec01_200_std10_loop20.pickle',\n",
       " 'gate_rec01_210_std10_loop20.pickle',\n",
       " 'gate_rec01_220_std10_loop20.pickle',\n",
       " 'gate_rec01_230_std10_loop20.pickle',\n",
       " 'gate_rec01_240_std10_loop20.pickle',\n",
       " 'gate_rec01_250_std10_loop20.pickle',\n",
       " 'gate_rec01_260_std10_loop20.pickle',\n",
       " 'gate_rec01_270_std10_loop20.pickle',\n",
       " 'gate_rec01_280_std10_loop20.pickle',\n",
       " 'gate_rec01_290_std10_loop20.pickle',\n",
       " 'gate_rec01_300_std10_loop20.pickle',\n",
       " 'gate_rec01_310_std10_loop20.pickle']"
      ]
     },
     "execution_count": 41,
     "metadata": {},
     "output_type": "execute_result"
    }
   ],
   "source": [
    "glob.glob('gate_rec01_*')"
   ]
  },
  {
   "cell_type": "code",
   "execution_count": 42,
   "metadata": {},
   "outputs": [],
   "source": [
    "# 07 は普通の好奇心，ノイズなし"
   ]
  },
  {
   "cell_type": "code",
   "execution_count": null,
   "metadata": {},
   "outputs": [],
   "source": [
    "import glob\n",
    "all_names = glob.glob('gate_rec01_*std10_loop20.pickle')\n",
    "import pickle\n",
    "import numpy as np\n",
    "import matplotlib.pyplot as plt\n",
    "% matplotlib inline"
   ]
  },
  {
   "cell_type": "code",
   "execution_count": null,
   "metadata": {},
   "outputs": [
    {
     "name": "stdout",
     "output_type": "stream",
     "text": [
      "0 135\n",
      "1 135\n",
      "2 135\n",
      "3 135\n",
      "4 135\n",
      "5 135\n",
      "6 135\n",
      "7 135\n",
      "8 135\n",
      "9 135\n",
      "10 135\n",
      "11 135\n",
      "12 135\n",
      "13 135\n",
      "14 135\n",
      "15 135\n",
      "16 135\n",
      "17 135\n",
      "18 135\n",
      "19 135\n",
      "20 135\n",
      "21 135\n",
      "22 135\n",
      "23 135\n",
      "24 135\n",
      "25 135\n",
      "26 135\n",
      "27 135\n",
      "28 135\n",
      "29 135\n",
      "30 135\n",
      "31 135\n",
      "32 135\n",
      "33 135\n",
      "34 135\n",
      "35 135\n",
      "36 135\n",
      "37 135\n",
      "38 135\n",
      "39 135\n",
      "40 135\n",
      "41 135\n",
      "42 135\n",
      "43 135\n",
      "44 135\n",
      "45 135\n",
      "46 135\n",
      "47 135\n",
      "48 135\n",
      "49 135\n",
      "50 135\n",
      "51 135\n",
      "52 135\n",
      "53 135\n",
      "54 135\n",
      "55 135\n",
      "56 135\n",
      "57 135\n",
      "58 135\n",
      "59 135\n",
      "60 135\n",
      "61 135\n",
      "62 135\n",
      "63 135\n",
      "64 135\n",
      "65 135\n",
      "66 135\n",
      "67 135\n",
      "68 135\n",
      "69 135\n",
      "70 135\n",
      "71 135\n",
      "72 135\n",
      "73 135\n",
      "74 135\n",
      "75 135\n",
      "76 135\n",
      "77 135\n",
      "78 135\n",
      "79 135\n",
      "80 135\n",
      "81 135\n"
     ]
    }
   ],
   "source": [
    "data = {\"qt+i_r\":[],\n",
    "       'reward':[],\n",
    "       \"loss\":[],\n",
    "       \"loss_a\":[]}\n",
    "for j,an in enumerate(all_names):\n",
    "    print(j,len(all_names))\n",
    "    with open(an,mode='rb') as f:\n",
    "        tmp = pickle.load(f)\n",
    "        data[\"qt+i_r\"] += [d for i, d in enumerate(tmp[\"qt+i_r\"]) if i%100==0]\n",
    "        data['reward'] += [d for i, d in enumerate(tmp['reward'])]\n",
    "        data[\"loss\"] += [d for i, d in enumerate(tmp[\"loss\"]) if i%100==0]\n",
    "        data[\"loss_a\"] += [d for i, d in enumerate(tmp[\"loss_a\"]) if i%100==0]\n",
    "plt.plot(list(range(len(data[\"qt+i_r\"]))), [float(sum(d.array)/len(d.array)) for d in data[\"qt+i_r\"]])"
   ]
  },
  {
   "cell_type": "code",
   "execution_count": null,
   "metadata": {},
   "outputs": [],
   "source": [
    "plt.plot(list(range(len(data))), [float(d.array) for d in data])"
   ]
  },
  {
   "cell_type": "code",
   "execution_count": null,
   "metadata": {},
   "outputs": [],
   "source": [
    "data = []\n",
    "for j,an in enumerate(all_names):\n",
    "    print(j,len(all_names))\n",
    "    with open(an,mode='rb') as f:\n",
    "        data += [d for i, d in enumerate(pickle.load(f)['reward']) if i%10==0]\n",
    "plt.plot(list(range(len(data))), data)"
   ]
  },
  {
   "cell_type": "code",
   "execution_count": null,
   "metadata": {},
   "outputs": [],
   "source": [
    "len(all_names)"
   ]
  },
  {
   "cell_type": "code",
   "execution_count": 77,
   "metadata": {},
   "outputs": [
    {
     "data": {
      "image/png": "[encoded data removed]",
      "text/plain": [
       "<matplotlib.figure.Figure at 0x7f810171bd68>"
      ]
     },
     "metadata": {},
     "output_type": "display_data"
    }
   ],
   "source": [
    "num = 0\n",
    "with open(all_names[num],mode='rb') as f:\n",
    "    data = pickle.load(f)\n",
    "draw_int_rew(data,len(data['target_losses'])-1,gate=True)"
   ]
  },
  {
   "cell_type": "code",
   "execution_count": 8,
   "metadata": {},
   "outputs": [
    {
     "ename": "AttributeError",
     "evalue": "'list' object has no attribute 'keys'",
     "output_type": "error",
     "traceback": [
      "\u001b[0;31m---------------------------------------------------------------------------\u001b[0m",
      "\u001b[0;31mAttributeError\u001b[0m                            Traceback (most recent call last)",
      "\u001b[0;32m<ipython-input-8-43ebc71570da>\u001b[0m in \u001b[0;36m<module>\u001b[0;34m()\u001b[0m\n\u001b[0;32m----> 1\u001b[0;31m \u001b[0mdata\u001b[0m\u001b[0;34m.\u001b[0m\u001b[0mkeys\u001b[0m\u001b[0;34m(\u001b[0m\u001b[0;34m)\u001b[0m\u001b[0;34m\u001b[0m\u001b[0m\n\u001b[0m",
      "\u001b[0;31mAttributeError\u001b[0m: 'list' object has no attribute 'keys'"
     ]
    }
   ],
   "source": [
    "data.keys()"
   ]
  },
  {
   "cell_type": "code",
   "execution_count": 9,
   "metadata": {},
   "outputs": [],
   "source": [
    "with open(all_names[0],mode='rb') as f:\n",
    "    data = pickle.load(f)"
   ]
  },
  {
   "cell_type": "code",
   "execution_count": 10,
   "metadata": {},
   "outputs": [
    {
     "data": {
      "text/plain": [
       "dict_keys(['target_losses', 'reward', 'loss_a', 'qt+i_r', 'loss', 'target', 'target_a_losses'])"
      ]
     },
     "execution_count": 10,
     "metadata": {},
     "output_type": "execute_result"
    }
   ],
   "source": [
    "data.keys()"
   ]
  },
  {
   "cell_type": "code",
   "execution_count": null,
   "metadata": {},
   "outputs": [],
   "source": []
  },
  {
   "cell_type": "code",
   "execution_count": null,
   "metadata": {},
   "outputs": [],
   "source": []
  }
 ],
 "metadata": {
  "kernelspec": {
   "display_name": "Python 3",
   "language": "python",
   "name": "python3"
  },
  "language_info": {
   "codemirror_mode": {
    "name": "ipython",
    "version": 3
   },
   "file_extension": ".py",
   "mimetype": "text/x-python",
   "name": "python",
   "nbconvert_exporter": "python",
   "pygments_lexer": "ipython3",
   "version": "3.5.2"
  }
 },
 "nbformat": 4,
 "nbformat_minor": 2
}
