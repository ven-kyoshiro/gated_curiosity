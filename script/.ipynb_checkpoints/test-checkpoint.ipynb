{
 "cells": [
  {
   "cell_type": "code",
   "execution_count": 100,
   "metadata": {},
   "outputs": [],
   "source": [
    "import chainer\n",
    "import chainer.functions as F\n",
    "import chainer.links as L\n",
    "import chainerrl\n",
    "import numpy as np"
   ]
  },
  {
   "cell_type": "code",
   "execution_count": 111,
   "metadata": {},
   "outputs": [],
   "source": [
    "import chainer.computational_graph as c"
   ]
  },
  {
   "cell_type": "code",
   "execution_count": 101,
   "metadata": {},
   "outputs": [],
   "source": [
    "class ForwardPredictor(chainer.Chain):\n",
    "    \n",
    "    def __init__(self, obs_size, n_actions, n_hidden_channels=128):\n",
    "        super().__init__()\n",
    "        with self.init_scope():\n",
    "            self.l0 = L.Linear(obs_size+n_actions, n_hidden_channels)\n",
    "            self.l1 = L.Linear(n_hidden_channels, n_hidden_channels)\n",
    "            self.l2 = L.Linear(n_hidden_channels, n_hidden_channels)\n",
    "            self.l3 = L.Linear(n_hidden_channels, obs_size)\n",
    "            self.bn1 = L.BatchNormalization(n_hidden_channels)\n",
    "            self.bn2 = L.BatchNormalization(n_hidden_channels)\n",
    "            self.bn3 = L.BatchNormalization(n_hidden_channels)\n",
    "\n",
    "    def __call__(self, x, test=False):\n",
    "        \"\"\"\n",
    "        Args:\n",
    "            x (ndarray or chainer.Variable): An observation\n",
    "            test (bool): a flag indicating whether it is in test mode\n",
    "        \"\"\"\n",
    "        h = F.relu(self.bn1(self.l0(x)))\n",
    "        h = F.relu(self.bn2(self.l1(h)))\n",
    "        h = F.relu(self.bn3(self.l2(h)))\n",
    "        return self.l3(h)"
   ]
  },
  {
   "cell_type": "code",
   "execution_count": 102,
   "metadata": {},
   "outputs": [],
   "source": []
  },
  {
   "cell_type": "code",
   "execution_count": 103,
   "metadata": {},
   "outputs": [
    {
     "data": {
      "text/plain": [
       "<chainer.optimizers.adam.Adam at 0x7ff6f0b34320>"
      ]
     },
     "execution_count": 103,
     "metadata": {},
     "output_type": "execute_result"
    }
   ],
   "source": []
  },
  {
   "cell_type": "code",
   "execution_count": 106,
   "metadata": {},
   "outputs": [
    {
     "name": "stdout",
     "output_type": "stream",
     "text": [
      "0.1 loss variable(0.9812899)\n",
      "0.01 loss variable(0.93867964)\n",
      "0.001 loss variable(0.9113274)\n",
      "0.0001 loss variable(0.8753067)\n",
      "1e-05 loss variable(0.8842639)\n",
      "1e-06 loss variable(0.88033617)\n",
      "1e-07 loss variable(0.8689108)\n",
      "1e-08 loss variable(0.8760949)\n",
      "1e-10 loss variable(0.8590482)\n",
      "1e-20 loss variable(0.8830109)\n"
     ]
    }
   ],
   "source": [
    "for j in [1e-1,1e-2,1e-3,1e-4,1e-5,1e-6,1e-7,1e-8,1e-10,1e-20]:\n",
    "    f_pred = ForwardPredictor(4,2)\n",
    "    optimizer_f = chainer.optimizers.Adam(eps=j)\n",
    "    optimizer_f.setup(f_pred)\n",
    "    for i in range(20):\n",
    "        f_pred.cleargrads()\n",
    "        y = f_pred(np.array([[1.,1.,1.,1.,1.,1.],\n",
    "                             [1.,1.,1.,1.,1.,1.],\n",
    "                             [1.,1.,1.,1.,1.,1.],\n",
    "                             [1.,1.,1.,1.,1.,1.],\n",
    "                             [1.,1.,1.,1.,1.,1.],\n",
    "                             [1.,1.,1.,1.,1.,1.],\n",
    "                             [1.,1.,1.,1.,1.,1.]],dtype=np.float32))\n",
    "        t = np.array([[1.,1.,1.,1.],\n",
    "                             [1.,1.,1.,1.],\n",
    "                             [1.,1.,1.,1.],\n",
    "                             [1.,1.,1.,1.],\n",
    "                             [1.,1.,1.,1.],\n",
    "                             [1.,1.,1.,1.],\n",
    "                             [1.,1.,1.,1.]],dtype=np.float32)\n",
    "        loss = F.mean_squared_error(y, t)\n",
    "        loss.backward()\n",
    "        optimizer_f.update()\n",
    "    print(j,'loss',loss)"
   ]
  },
  {
   "cell_type": "code",
   "execution_count": null,
   "metadata": {},
   "outputs": [],
   "source": []
  },
  {
   "cell_type": "code",
   "execution_count": null,
   "metadata": {},
   "outputs": [],
   "source": []
  },
  {
   "cell_type": "code",
   "execution_count": null,
   "metadata": {},
   "outputs": [],
   "source": []
  },
  {
   "cell_type": "code",
   "execution_count": null,
   "metadata": {},
   "outputs": [],
   "source": []
  },
  {
   "cell_type": "code",
   "execution_count": null,
   "metadata": {},
   "outputs": [],
   "source": []
  },
  {
   "cell_type": "code",
   "execution_count": null,
   "metadata": {},
   "outputs": [],
   "source": []
  },
  {
   "cell_type": "code",
   "execution_count": null,
   "metadata": {},
   "outputs": [],
   "source": []
  },
  {
   "cell_type": "code",
   "execution_count": null,
   "metadata": {},
   "outputs": [],
   "source": []
  },
  {
   "cell_type": "code",
   "execution_count": null,
   "metadata": {},
   "outputs": [],
   "source": []
  },
  {
   "cell_type": "code",
   "execution_count": 114,
   "metadata": {},
   "outputs": [],
   "source": [
    "class ForwardPredictor(chainer.Chain):\n",
    "    \n",
    "    def __init__(self, obs_size, n_actions, n_hidden_channels=128):\n",
    "        super().__init__()\n",
    "        with self.init_scope():\n",
    "            self.l0 = L.Linear(obs_size+n_actions, n_hidden_channels)\n",
    "            self.l1 = L.Linear(n_hidden_channels, n_hidden_channels)\n",
    "            self.l2 = L.Linear(n_hidden_channels, n_hidden_channels)\n",
    "            self.l3 = L.Linear(n_hidden_channels, obs_size)\n",
    "            self.bn1 = L.BatchNormalization(n_hidden_channels)\n",
    "            self.bn2 = L.BatchNormalization(n_hidden_channels)\n",
    "            self.bn3 = L.BatchNormalization(n_hidden_channels)\n",
    "\n",
    "    def __call__(self, x, test=False):\n",
    "        \"\"\"\n",
    "        Args:\n",
    "            x (ndarray or chainer.Variable): An observation\n",
    "            test (bool): a flag indicating whether it is in test mode\n",
    "        \"\"\"\n",
    "        h = F.relu(self.bn1(self.l0(x)))\n",
    "        h = F.relu(self.bn2(self.l1(h)))\n",
    "        h = F.relu(self.bn3(self.l2(h)))\n",
    "        return self.l3(h)"
   ]
  },
  {
   "cell_type": "code",
   "execution_count": 115,
   "metadata": {},
   "outputs": [
    {
     "data": {
      "text/plain": [
       "<chainer.optimizers.adam.Adam at 0x7ff6f0b546a0>"
      ]
     },
     "execution_count": 115,
     "metadata": {},
     "output_type": "execute_result"
    }
   ],
   "source": [
    "f_pred = ForwardPredictor(4,2)\n",
    "optimizer_f = chainer.optimizers.Adam(eps=j)\n",
    "optimizer_f.setup(f_pred)"
   ]
  },
  {
   "cell_type": "code",
   "execution_count": 124,
   "metadata": {},
   "outputs": [],
   "source": [
    "class Unko():\n",
    "    def __init__(self,opt='',model=lambda x:x):\n",
    "        self.opt = opt\n",
    "        self.model = model\n",
    "    def learn(self):\n",
    "        for i in range(20):\n",
    "            y = self.model(np.array([[1.,1.,1.,1.,1.,1.],\n",
    "                                 [1.,1.,1.,1.,1.,1.],\n",
    "                                 [1.,1.,1.,1.,1.,1.],\n",
    "                                 [1.,1.,1.,1.,1.,1.],\n",
    "                                 [1.,1.,1.,1.,1.,1.],\n",
    "                                 [1.,1.,1.,1.,1.,1.],\n",
    "                                 [1.,1.,1.,1.,1.,1.]],dtype=np.float32))\n",
    "            t = np.array([[1.,1.,1.,1.],\n",
    "                                 [1.,1.,1.,1.],\n",
    "                                 [1.,1.,1.,1.],\n",
    "                                 [1.,1.,1.,1.],\n",
    "                                 [1.,1.,1.,1.],\n",
    "                                 [1.,1.,1.,1.],\n",
    "                                 [1.,1.,1.,1.]],dtype=np.float32)\n",
    "            self.model.cleargrads()\n",
    "            loss = F.reduce_sim((y-t)**2)\n",
    "            loss.backward()\n",
    "            self.opt.update()\n",
    "            print(i,loss)"
   ]
  },
  {
   "cell_type": "code",
   "execution_count": 125,
   "metadata": {},
   "outputs": [],
   "source": [
    "unk = Unko(model=f_pred,opt=optimizer_f)"
   ]
  },
  {
   "cell_type": "code",
   "execution_count": 126,
   "metadata": {},
   "outputs": [
    {
     "name": "stdout",
     "output_type": "stream",
     "text": [
      "0 variable(0.84977883)\n",
      "1 variable(0.83850485)\n",
      "2 variable(0.8269025)\n",
      "3 variable(0.8149721)\n",
      "4 variable(0.80271894)\n",
      "5 variable(0.79014534)\n",
      "6 variable(0.77725446)\n",
      "7 variable(0.7640539)\n",
      "8 variable(0.7505493)\n",
      "9 variable(0.73674446)\n",
      "10 variable(0.7226519)\n",
      "11 variable(0.70827466)\n",
      "12 variable(0.6936298)\n",
      "13 variable(0.67872274)\n",
      "14 variable(0.66357)\n",
      "15 variable(0.64818084)\n",
      "16 variable(0.63256806)\n",
      "17 variable(0.61675316)\n",
      "18 variable(0.6007447)\n",
      "19 variable(0.58456177)\n"
     ]
    }
   ],
   "source": [
    "unk.learn()"
   ]
  },
  {
   "cell_type": "code",
   "execution_count": 112,
   "metadata": {},
   "outputs": [],
   "source": [
    "g = c.build_computational_graph([loss])"
   ]
  },
  {
   "cell_type": "code",
   "execution_count": null,
   "metadata": {},
   "outputs": [],
   "source": []
  },
  {
   "cell_type": "code",
   "execution_count": null,
   "metadata": {},
   "outputs": [],
   "source": []
  },
  {
   "cell_type": "code",
   "execution_count": null,
   "metadata": {},
   "outputs": [],
   "source": []
  },
  {
   "cell_type": "code",
   "execution_count": null,
   "metadata": {},
   "outputs": [],
   "source": []
  },
  {
   "cell_type": "code",
   "execution_count": 113,
   "metadata": {},
   "outputs": [],
   "source": [
    "with open('graph.dot', 'w') as o:\n",
    "    o.write(g.dump())"
   ]
  },
  {
   "cell_type": "code",
   "execution_count": null,
   "metadata": {},
   "outputs": [],
   "source": []
  }
 ],
 "metadata": {
  "kernelspec": {
   "display_name": "Python 3",
   "language": "python",
   "name": "python3"
  },
  "language_info": {
   "codemirror_mode": {
    "name": "ipython",
    "version": 3
   },
   "file_extension": ".py",
   "mimetype": "text/x-python",
   "name": "python",
   "nbconvert_exporter": "python",
   "pygments_lexer": "ipython3",
   "version": "3.5.2"
  }
 },
 "nbformat": 4,
 "nbformat_minor": 2
}
